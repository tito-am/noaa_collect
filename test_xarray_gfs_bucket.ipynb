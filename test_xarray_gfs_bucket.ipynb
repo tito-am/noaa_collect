{
 "cells": [
  {
   "cell_type": "code",
   "execution_count": 2,
   "metadata": {},
   "outputs": [],
   "source": [
    "import xarray as xr\n",
    "import fsspec \n",
    "import s3fs\n",
    "client_kwargs={'region_name':'us-east-1'}\n",
    "config_kwargs = {'max_pool_connections': 30}\n",
    "\n",
    "fs = s3fs.S3FileSystem(client_kwargs=client_kwargs, \n",
    "                       config_kwargs=config_kwargs, \n",
    "                       anon=True)  # public read\n",
    "\n",
    "fs.ls('noaa-gfs-bdp-pds/gfs.20200122/00/')\n",
    "\n",
    "fs.download('noaa-gfs-bdp-pds/gfs.20200122/00/gfs.t00z.pgrb2full.0p50.f027','gfs.t00z.pgrb2full.0p50.f027.grib2')\n",
    "\n",
    "\n",
    "#https://docs.opendata.aws/noaa-gefs-pds/readme.html for gefs ensemble data information\n",
    "#https://www.nco.ncep.noaa.gov/pmb/products/gens/ inventary of GFS contents"
   ]
  },
  {
   "cell_type": "code",
   "execution_count": 3,
   "metadata": {},
   "outputs": [
    {
     "name": "stderr",
     "output_type": "stream",
     "text": [
      "Ignoring index file '/Users/caramelo/Downloads/03OC003/gfs.t00z.pgrb2full.0p50.f027.grib2.4cc40.idx' older than GRIB file\n"
     ]
    }
   ],
   "source": [
    "ds = xr.open_dataset('gfs.t00z.pgrb2full.0p50.f027.grib2', engine='cfgrib',backend_kwargs={'filter_by_keys': {'cfVarName': 'acpcp','typeOfLevel': 'surface'}})\n",
    "\n"
   ]
  },
  {
   "cell_type": "code",
   "execution_count": 15,
   "metadata": {},
   "outputs": [
    {
     "data": {
      "text/html": [
       "<pre>&lt;xarray.Dataset&gt;\n",
       "Dimensions:     (latitude: 361, longitude: 720)\n",
       "Coordinates:\n",
       "    time        datetime64[ns] 2020-01-22\n",
       "    step        timedelta64[ns] 1 days 03:00:00\n",
       "    surface     int64 ...\n",
       "  * latitude    (latitude) float64 90.0 89.5 89.0 88.5 ... -89.0 -89.5 -90.0\n",
       "  * longitude   (longitude) float64 0.0 0.5 1.0 1.5 ... 358.0 358.5 359.0 359.5\n",
       "    valid_time  datetime64[ns] ...\n",
       "Data variables:\n",
       "    acpcp       (latitude, longitude) float32 ...\n",
       "Attributes:\n",
       "    GRIB_edition:            2\n",
       "    GRIB_centre:             kwbc\n",
       "    GRIB_centreDescription:  US National Weather Service - NCEP \n",
       "    GRIB_subCentre:          0\n",
       "    Conventions:             CF-1.7\n",
       "    institution:             US National Weather Service - NCEP \n",
       "    history:                 2020-01-30T07:10:49 GRIB to CDM+CF via cfgrib-0....</pre>"
      ],
      "text/plain": [
       "<xarray.Dataset>\n",
       "Dimensions:     (latitude: 361, longitude: 720)\n",
       "Coordinates:\n",
       "    time        datetime64[ns] 2020-01-22\n",
       "    step        timedelta64[ns] 1 days 03:00:00\n",
       "    surface     int64 ...\n",
       "  * latitude    (latitude) float64 90.0 89.5 89.0 88.5 ... -89.0 -89.5 -90.0\n",
       "  * longitude   (longitude) float64 0.0 0.5 1.0 1.5 ... 358.0 358.5 359.0 359.5\n",
       "    valid_time  datetime64[ns] ...\n",
       "Data variables:\n",
       "    acpcp       (latitude, longitude) float32 ...\n",
       "Attributes:\n",
       "    GRIB_edition:            2\n",
       "    GRIB_centre:             kwbc\n",
       "    GRIB_centreDescription:  US National Weather Service - NCEP \n",
       "    GRIB_subCentre:          0\n",
       "    Conventions:             CF-1.7\n",
       "    institution:             US National Weather Service - NCEP \n",
       "    history:                 2020-01-30T07:10:49 GRIB to CDM+CF via cfgrib-0...."
      ]
     },
     "execution_count": 15,
     "metadata": {},
     "output_type": "execute_result"
    }
   ],
   "source": [
    "ds"
   ]
  },
  {
   "cell_type": "code",
   "execution_count": 5,
   "metadata": {},
   "outputs": [],
   "source": [
    "acpcp=ds.acpcp"
   ]
  },
  {
   "cell_type": "code",
   "execution_count": 6,
   "metadata": {},
   "outputs": [],
   "source": [
    "acpcp.attrs = ds.acpcp.attrs"
   ]
  },
  {
   "cell_type": "code",
   "execution_count": 7,
   "metadata": {},
   "outputs": [],
   "source": [
    "acpcp.attrs['units'] = 'mm'"
   ]
  },
  {
   "cell_type": "code",
   "execution_count": 8,
   "metadata": {},
   "outputs": [],
   "source": [
    "acpcp1d = acpcp.isel(latitude=10, longitude=10)"
   ]
  },
  {
   "cell_type": "code",
   "execution_count": 9,
   "metadata": {},
   "outputs": [
    {
     "data": {
      "text/plain": [
       "(array([0., 0., 0., 0., 0., 1., 0., 0., 0., 0.]),\n",
       " array([-0.5, -0.4, -0.3, -0.2, -0.1,  0. ,  0.1,  0.2,  0.3,  0.4,  0.5],\n",
       "       dtype=float32),\n",
       " <a list of 10 Patch objects>)"
      ]
     },
     "execution_count": 9,
     "metadata": {},
     "output_type": "execute_result"
    }
   ],
   "source": [
    "acpcp1d.plot()"
   ]
  },
  {
   "cell_type": "code",
   "execution_count": 10,
   "metadata": {},
   "outputs": [
    {
     "data": {
      "text/plain": [
       "{'GRIB_NV': 0,\n",
       " 'GRIB_Nx': 720,\n",
       " 'GRIB_Ny': 361,\n",
       " 'GRIB_cfName': 'lwe_thickness_of_convective_precipitation_amount',\n",
       " 'GRIB_cfVarName': 'acpcp',\n",
       " 'GRIB_dataType': 'fc',\n",
       " 'GRIB_gridDefinitionDescription': 'Latitude/longitude. Also called equidistant cylindrical, or Plate Carree',\n",
       " 'GRIB_gridType': 'regular_ll',\n",
       " 'GRIB_iDirectionIncrementInDegrees': 0.5,\n",
       " 'GRIB_iScansNegatively': 0,\n",
       " 'GRIB_jDirectionIncrementInDegrees': 0.5,\n",
       " 'GRIB_jPointsAreConsecutive': 0,\n",
       " 'GRIB_jScansPositively': 0,\n",
       " 'GRIB_latitudeOfFirstGridPointInDegrees': 90.0,\n",
       " 'GRIB_latitudeOfLastGridPointInDegrees': -90.0,\n",
       " 'GRIB_longitudeOfFirstGridPointInDegrees': 0.0,\n",
       " 'GRIB_longitudeOfLastGridPointInDegrees': 359.5,\n",
       " 'GRIB_missingValue': 9999,\n",
       " 'GRIB_name': 'Convective precipitation (water)',\n",
       " 'GRIB_numberOfPoints': 259920,\n",
       " 'GRIB_paramId': 3063,\n",
       " 'GRIB_shortName': 'acpcp',\n",
       " 'GRIB_stepType': 'accum',\n",
       " 'GRIB_stepUnits': 1,\n",
       " 'GRIB_typeOfLevel': 'surface',\n",
       " 'GRIB_units': 'kg m**-2',\n",
       " 'long_name': 'Convective precipitation (water)',\n",
       " 'standard_name': 'lwe_thickness_of_convective_precipitation_amount',\n",
       " 'units': 'mm'}"
      ]
     },
     "execution_count": 10,
     "metadata": {},
     "output_type": "execute_result"
    }
   ],
   "source": [
    "acpcp1d.attrs"
   ]
  },
  {
   "cell_type": "code",
   "execution_count": 21,
   "metadata": {},
   "outputs": [
    {
     "data": {
      "text/html": [
       "<pre>&lt;xarray.Dataset&gt;\n",
       "Dimensions:     (latitude: 361, longitude: 720)\n",
       "Coordinates:\n",
       "    time        datetime64[ns] 2020-01-22\n",
       "    step        timedelta64[ns] 1 days 03:00:00\n",
       "    surface     int64 ...\n",
       "  * latitude    (latitude) float64 90.0 89.5 89.0 88.5 ... -89.0 -89.5 -90.0\n",
       "  * longitude   (longitude) float64 0.0 0.5 1.0 1.5 ... 358.0 358.5 359.0 359.5\n",
       "    valid_time  datetime64[ns] ...\n",
       "Data variables:\n",
       "    acpcp       (latitude, longitude) float32 ...\n",
       "Attributes:\n",
       "    GRIB_edition:            2\n",
       "    GRIB_centre:             kwbc\n",
       "    GRIB_centreDescription:  US National Weather Service - NCEP \n",
       "    GRIB_subCentre:          0\n",
       "    Conventions:             CF-1.7\n",
       "    institution:             US National Weather Service - NCEP \n",
       "    history:                 2020-01-30T07:10:49 GRIB to CDM+CF via cfgrib-0....</pre>"
      ],
      "text/plain": [
       "<xarray.Dataset>\n",
       "Dimensions:     (latitude: 361, longitude: 720)\n",
       "Coordinates:\n",
       "    time        datetime64[ns] 2020-01-22\n",
       "    step        timedelta64[ns] 1 days 03:00:00\n",
       "    surface     int64 ...\n",
       "  * latitude    (latitude) float64 90.0 89.5 89.0 88.5 ... -89.0 -89.5 -90.0\n",
       "  * longitude   (longitude) float64 0.0 0.5 1.0 1.5 ... 358.0 358.5 359.0 359.5\n",
       "    valid_time  datetime64[ns] ...\n",
       "Data variables:\n",
       "    acpcp       (latitude, longitude) float32 ...\n",
       "Attributes:\n",
       "    GRIB_edition:            2\n",
       "    GRIB_centre:             kwbc\n",
       "    GRIB_centreDescription:  US National Weather Service - NCEP \n",
       "    GRIB_subCentre:          0\n",
       "    Conventions:             CF-1.7\n",
       "    institution:             US National Weather Service - NCEP \n",
       "    history:                 2020-01-30T07:10:49 GRIB to CDM+CF via cfgrib-0...."
      ]
     },
     "execution_count": 21,
     "metadata": {},
     "output_type": "execute_result"
    }
   ],
   "source": [
    "ds"
   ]
  },
  {
   "cell_type": "code",
   "execution_count": 22,
   "metadata": {},
   "outputs": [
    {
     "data": {
      "text/html": [
       "<pre>&lt;xarray.Dataset&gt;\n",
       "Dimensions:     ()\n",
       "Coordinates:\n",
       "    time        datetime64[ns] 2020-01-22\n",
       "    step        timedelta64[ns] 1 days 03:00:00\n",
       "    surface     int64 ...\n",
       "    valid_time  datetime64[ns] ...\n",
       "Data variables:\n",
       "    acpcp       float32 0.13284329</pre>"
      ],
      "text/plain": [
       "<xarray.Dataset>\n",
       "Dimensions:     ()\n",
       "Coordinates:\n",
       "    time        datetime64[ns] 2020-01-22\n",
       "    step        timedelta64[ns] 1 days 03:00:00\n",
       "    surface     int64 ...\n",
       "    valid_time  datetime64[ns] ...\n",
       "Data variables:\n",
       "    acpcp       float32 0.13284329"
      ]
     },
     "execution_count": 22,
     "metadata": {},
     "output_type": "execute_result"
    }
   ],
   "source": [
    "ds.mean(dim=['latitude','longitude'])"
   ]
  },
  {
   "cell_type": "code",
   "execution_count": null,
   "metadata": {},
   "outputs": [],
   "source": []
  }
 ],
 "metadata": {
  "kernelspec": {
   "display_name": "Python 3",
   "language": "python",
   "name": "python3"
  },
  "language_info": {
   "codemirror_mode": {
    "name": "ipython",
    "version": 3
   },
   "file_extension": ".py",
   "mimetype": "text/x-python",
   "name": "python",
   "nbconvert_exporter": "python",
   "pygments_lexer": "ipython3",
   "version": "3.6.4"
  }
 },
 "nbformat": 4,
 "nbformat_minor": 4
}
