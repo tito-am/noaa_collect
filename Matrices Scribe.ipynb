{
 "cells": [
  {
   "cell_type": "code",
   "execution_count": 1,
   "metadata": {},
   "outputs": [
    {
     "output_type": "display_data",
     "data": {
      "text/plain": "<Figure size 2400x1600 with 0 Axes>"
     },
     "metadata": {}
    }
   ],
   "source": [
    "import numpy as np\n",
    "import pandas as pd\n",
    "import geopandas as gpd\n",
    "import seaborn as sns\n",
    "import cftime\n",
    "import xarray as xr\n",
    "import wget\n",
    "import os\n",
    "import glob\n",
    "import matplotlib.pyplot as plt\n",
    "import dask\n",
    "\n",
    "plt.rcParams['figure.figsize'] = [12, 8]\n",
    "plt.rcParams['figure.dpi'] = 200 # 200 e.g. is really fine, but slower\n",
    "\n",
    "plt.gcf().autofmt_xdate()"
   ]
  },
  {
   "cell_type": "markdown",
   "metadata": {},
   "source": [
    "Les matrices SCRIBE sont le produit d'Environnement Canada que l'on veut répliquer à partir des données binaires du Datamart. Le traitement des données GRIB peut se faire en deux étapes, soit celle de la concaténation et celles du calcul au point de grille. Faisons donc ces manipulations avec les fichiers de l'émission 00z du 22 février 2021 (20210222) et pour la variable de la température moyenne (TMP)"
   ]
  },
  {
   "cell_type": "code",
   "execution_count": 2,
   "metadata": {},
   "outputs": [
    {
     "output_type": "execute_result",
     "data": {
      "text/plain": [
       "['CMC_glb_TMP_TGL_2_latlon.15x.15_2021022200_P012.grib2',\n",
       " 'CMC_glb_TMP_TGL_2_latlon.15x.15_2021022200_P009.grib2',\n",
       " 'CMC_glb_TMP_TGL_2_latlon.15x.15_2021022200_P015.grib2',\n",
       " 'CMC_glb_TMP_TGL_2_latlon.15x.15_2021022200_P024.grib2',\n",
       " 'CMC_glb_TMP_TGL_2_latlon.15x.15_2021022200_P000.grib2',\n",
       " 'CMC_glb_TMP_TGL_2_latlon.15x.15_2021022200_P006.grib2',\n",
       " 'CMC_glb_TMP_TGL_2_latlon.15x.15_2021022200_P003.grib2',\n",
       " 'CMC_glb_TMP_TGL_2_latlon.15x.15_2021022200_P018.grib2',\n",
       " 'CMC_glb_TMP_TGL_2_latlon.15x.15_2021022200_P021.grib2']"
      ]
     },
     "metadata": {},
     "execution_count": 2
    }
   ],
   "source": [
    "grib_list=glob.glob('*.grib2')\n",
    "grib_list"
   ]
  },
  {
   "cell_type": "code",
   "execution_count": 3,
   "metadata": {},
   "outputs": [],
   "source": [
    "ds=xr.open_mfdataset(grib_list,concat_dim='valid_time',engine='cfgrib',combine='nested')"
   ]
  },
  {
   "cell_type": "code",
   "execution_count": 4,
   "metadata": {},
   "outputs": [
    {
     "output_type": "execute_result",
     "data": {
      "text/plain": [
       "<xarray.Dataset>\n",
       "Dimensions:            (latitude: 1201, longitude: 2400, valid_time: 9)\n",
       "Coordinates:\n",
       "    time               datetime64[ns] 2021-02-22\n",
       "    step               (valid_time) timedelta64[ns] 0 days 12:00:00 ... 21:00:00\n",
       "    heightAboveGround  int64 2\n",
       "  * latitude           (latitude) float64 -90.0 -89.85 -89.7 ... 89.7 89.85 90.0\n",
       "  * longitude          (longitude) float64 -180.0 -179.8 -179.7 ... 179.7 179.9\n",
       "  * valid_time         (valid_time) datetime64[ns] 2021-02-22T12:00:00 ... 20...\n",
       "Data variables:\n",
       "    t2m                (valid_time, latitude, longitude) float32 dask.array<chunksize=(1, 1201, 2400), meta=np.ndarray>\n",
       "Attributes:\n",
       "    GRIB_edition:            2\n",
       "    GRIB_centre:             cwao\n",
       "    GRIB_centreDescription:  Canadian Meteorological Service - Montreal \n",
       "    GRIB_subCentre:          0\n",
       "    Conventions:             CF-1.7\n",
       "    institution:             Canadian Meteorological Service - Montreal \n",
       "    history:                 2021-02-26T13:30:11 GRIB to CDM+CF via cfgrib-0...."
      ],
      "text/html": "<div><svg style=\"position: absolute; width: 0; height: 0; overflow: hidden\">\n<defs>\n<symbol id=\"icon-database\" viewBox=\"0 0 32 32\">\n<path d=\"M16 0c-8.837 0-16 2.239-16 5v4c0 2.761 7.163 5 16 5s16-2.239 16-5v-4c0-2.761-7.163-5-16-5z\"></path>\n<path d=\"M16 17c-8.837 0-16-2.239-16-5v6c0 2.761 7.163 5 16 5s16-2.239 16-5v-6c0 2.761-7.163 5-16 5z\"></path>\n<path d=\"M16 26c-8.837 0-16-2.239-16-5v6c0 2.761 7.163 5 16 5s16-2.239 16-5v-6c0 2.761-7.163 5-16 5z\"></path>\n</symbol>\n<symbol id=\"icon-file-text2\" viewBox=\"0 0 32 32\">\n<path d=\"M28.681 7.159c-0.694-0.947-1.662-2.053-2.724-3.116s-2.169-2.030-3.116-2.724c-1.612-1.182-2.393-1.319-2.841-1.319h-15.5c-1.378 0-2.5 1.121-2.5 2.5v27c0 1.378 1.122 2.5 2.5 2.5h23c1.378 0 2.5-1.122 2.5-2.5v-19.5c0-0.448-0.137-1.23-1.319-2.841zM24.543 5.457c0.959 0.959 1.712 1.825 2.268 2.543h-4.811v-4.811c0.718 0.556 1.584 1.309 2.543 2.268zM28 29.5c0 0.271-0.229 0.5-0.5 0.5h-23c-0.271 0-0.5-0.229-0.5-0.5v-27c0-0.271 0.229-0.5 0.5-0.5 0 0 15.499-0 15.5 0v7c0 0.552 0.448 1 1 1h7v19.5z\"></path>\n<path d=\"M23 26h-14c-0.552 0-1-0.448-1-1s0.448-1 1-1h14c0.552 0 1 0.448 1 1s-0.448 1-1 1z\"></path>\n<path d=\"M23 22h-14c-0.552 0-1-0.448-1-1s0.448-1 1-1h14c0.552 0 1 0.448 1 1s-0.448 1-1 1z\"></path>\n<path d=\"M23 18h-14c-0.552 0-1-0.448-1-1s0.448-1 1-1h14c0.552 0 1 0.448 1 1s-0.448 1-1 1z\"></path>\n</symbol>\n</defs>\n</svg>\n<style>/* CSS stylesheet for displaying xarray objects in jupyterlab.\n *\n */\n\n:root {\n  --xr-font-color0: var(--jp-content-font-color0, rgba(0, 0, 0, 1));\n  --xr-font-color2: var(--jp-content-font-color2, rgba(0, 0, 0, 0.54));\n  --xr-font-color3: var(--jp-content-font-color3, rgba(0, 0, 0, 0.38));\n  --xr-border-color: var(--jp-border-color2, #e0e0e0);\n  --xr-disabled-color: var(--jp-layout-color3, #bdbdbd);\n  --xr-background-color: var(--jp-layout-color0, white);\n  --xr-background-color-row-even: var(--jp-layout-color1, white);\n  --xr-background-color-row-odd: var(--jp-layout-color2, #eeeeee);\n}\n\nhtml[theme=dark],\nbody.vscode-dark {\n  --xr-font-color0: rgba(255, 255, 255, 1);\n  --xr-font-color2: rgba(255, 255, 255, 0.54);\n  --xr-font-color3: rgba(255, 255, 255, 0.38);\n  --xr-border-color: #1F1F1F;\n  --xr-disabled-color: #515151;\n  --xr-background-color: #111111;\n  --xr-background-color-row-even: #111111;\n  --xr-background-color-row-odd: #313131;\n}\n\n.xr-wrap {\n  display: block;\n  min-width: 300px;\n  max-width: 700px;\n}\n\n.xr-text-repr-fallback {\n  /* fallback to plain text repr when CSS is not injected (untrusted notebook) */\n  display: none;\n}\n\n.xr-header {\n  padding-top: 6px;\n  padding-bottom: 6px;\n  margin-bottom: 4px;\n  border-bottom: solid 1px var(--xr-border-color);\n}\n\n.xr-header > div,\n.xr-header > ul {\n  display: inline;\n  margin-top: 0;\n  margin-bottom: 0;\n}\n\n.xr-obj-type,\n.xr-array-name {\n  margin-left: 2px;\n  margin-right: 10px;\n}\n\n.xr-obj-type {\n  color: var(--xr-font-color2);\n}\n\n.xr-sections {\n  padding-left: 0 !important;\n  display: grid;\n  grid-template-columns: 150px auto auto 1fr 20px 20px;\n}\n\n.xr-section-item {\n  display: contents;\n}\n\n.xr-section-item input {\n  display: none;\n}\n\n.xr-section-item input + label {\n  color: var(--xr-disabled-color);\n}\n\n.xr-section-item input:enabled + label {\n  cursor: pointer;\n  color: var(--xr-font-color2);\n}\n\n.xr-section-item input:enabled + label:hover {\n  color: var(--xr-font-color0);\n}\n\n.xr-section-summary {\n  grid-column: 1;\n  color: var(--xr-font-color2);\n  font-weight: 500;\n}\n\n.xr-section-summary > span {\n  display: inline-block;\n  padding-left: 0.5em;\n}\n\n.xr-section-summary-in:disabled + label {\n  color: var(--xr-font-color2);\n}\n\n.xr-section-summary-in + label:before {\n  display: inline-block;\n  content: '►';\n  font-size: 11px;\n  width: 15px;\n  text-align: center;\n}\n\n.xr-section-summary-in:disabled + label:before {\n  color: var(--xr-disabled-color);\n}\n\n.xr-section-summary-in:checked + label:before {\n  content: '▼';\n}\n\n.xr-section-summary-in:checked + label > span {\n  display: none;\n}\n\n.xr-section-summary,\n.xr-section-inline-details {\n  padding-top: 4px;\n  padding-bottom: 4px;\n}\n\n.xr-section-inline-details {\n  grid-column: 2 / -1;\n}\n\n.xr-section-details {\n  display: none;\n  grid-column: 1 / -1;\n  margin-bottom: 5px;\n}\n\n.xr-section-summary-in:checked ~ .xr-section-details {\n  display: contents;\n}\n\n.xr-array-wrap {\n  grid-column: 1 / -1;\n  display: grid;\n  grid-template-columns: 20px auto;\n}\n\n.xr-array-wrap > label {\n  grid-column: 1;\n  vertical-align: top;\n}\n\n.xr-preview {\n  color: var(--xr-font-color3);\n}\n\n.xr-array-preview,\n.xr-array-data {\n  padding: 0 5px !important;\n  grid-column: 2;\n}\n\n.xr-array-data,\n.xr-array-in:checked ~ .xr-array-preview {\n  display: none;\n}\n\n.xr-array-in:checked ~ .xr-array-data,\n.xr-array-preview {\n  display: inline-block;\n}\n\n.xr-dim-list {\n  display: inline-block !important;\n  list-style: none;\n  padding: 0 !important;\n  margin: 0;\n}\n\n.xr-dim-list li {\n  display: inline-block;\n  padding: 0;\n  margin: 0;\n}\n\n.xr-dim-list:before {\n  content: '(';\n}\n\n.xr-dim-list:after {\n  content: ')';\n}\n\n.xr-dim-list li:not(:last-child):after {\n  content: ',';\n  padding-right: 5px;\n}\n\n.xr-has-index {\n  font-weight: bold;\n}\n\n.xr-var-list,\n.xr-var-item {\n  display: contents;\n}\n\n.xr-var-item > div,\n.xr-var-item label,\n.xr-var-item > .xr-var-name span {\n  background-color: var(--xr-background-color-row-even);\n  margin-bottom: 0;\n}\n\n.xr-var-item > .xr-var-name:hover span {\n  padding-right: 5px;\n}\n\n.xr-var-list > li:nth-child(odd) > div,\n.xr-var-list > li:nth-child(odd) > label,\n.xr-var-list > li:nth-child(odd) > .xr-var-name span {\n  background-color: var(--xr-background-color-row-odd);\n}\n\n.xr-var-name {\n  grid-column: 1;\n}\n\n.xr-var-dims {\n  grid-column: 2;\n}\n\n.xr-var-dtype {\n  grid-column: 3;\n  text-align: right;\n  color: var(--xr-font-color2);\n}\n\n.xr-var-preview {\n  grid-column: 4;\n}\n\n.xr-var-name,\n.xr-var-dims,\n.xr-var-dtype,\n.xr-preview,\n.xr-attrs dt {\n  white-space: nowrap;\n  overflow: hidden;\n  text-overflow: ellipsis;\n  padding-right: 10px;\n}\n\n.xr-var-name:hover,\n.xr-var-dims:hover,\n.xr-var-dtype:hover,\n.xr-attrs dt:hover {\n  overflow: visible;\n  width: auto;\n  z-index: 1;\n}\n\n.xr-var-attrs,\n.xr-var-data {\n  display: none;\n  background-color: var(--xr-background-color) !important;\n  padding-bottom: 5px !important;\n}\n\n.xr-var-attrs-in:checked ~ .xr-var-attrs,\n.xr-var-data-in:checked ~ .xr-var-data {\n  display: block;\n}\n\n.xr-var-data > table {\n  float: right;\n}\n\n.xr-var-name span,\n.xr-var-data,\n.xr-attrs {\n  padding-left: 25px !important;\n}\n\n.xr-attrs,\n.xr-var-attrs,\n.xr-var-data {\n  grid-column: 1 / -1;\n}\n\ndl.xr-attrs {\n  padding: 0;\n  margin: 0;\n  display: grid;\n  grid-template-columns: 125px auto;\n}\n\n.xr-attrs dt,\n.xr-attrs dd {\n  padding: 0;\n  margin: 0;\n  float: left;\n  padding-right: 10px;\n  width: auto;\n}\n\n.xr-attrs dt {\n  font-weight: normal;\n  grid-column: 1;\n}\n\n.xr-attrs dt:hover span {\n  display: inline-block;\n  background: var(--xr-background-color);\n  padding-right: 10px;\n}\n\n.xr-attrs dd {\n  grid-column: 2;\n  white-space: pre-wrap;\n  word-break: break-all;\n}\n\n.xr-icon-database,\n.xr-icon-file-text2 {\n  display: inline-block;\n  vertical-align: middle;\n  width: 1em;\n  height: 1.5em !important;\n  stroke-width: 0;\n  stroke: currentColor;\n  fill: currentColor;\n}\n</style><pre class='xr-text-repr-fallback'>&lt;xarray.Dataset&gt;\nDimensions:            (latitude: 1201, longitude: 2400, valid_time: 9)\nCoordinates:\n    time               datetime64[ns] 2021-02-22\n    step               (valid_time) timedelta64[ns] 0 days 12:00:00 ... 21:00:00\n    heightAboveGround  int64 2\n  * latitude           (latitude) float64 -90.0 -89.85 -89.7 ... 89.7 89.85 90.0\n  * longitude          (longitude) float64 -180.0 -179.8 -179.7 ... 179.7 179.9\n  * valid_time         (valid_time) datetime64[ns] 2021-02-22T12:00:00 ... 20...\nData variables:\n    t2m                (valid_time, latitude, longitude) float32 dask.array&lt;chunksize=(1, 1201, 2400), meta=np.ndarray&gt;\nAttributes:\n    GRIB_edition:            2\n    GRIB_centre:             cwao\n    GRIB_centreDescription:  Canadian Meteorological Service - Montreal \n    GRIB_subCentre:          0\n    Conventions:             CF-1.7\n    institution:             Canadian Meteorological Service - Montreal \n    history:                 2021-02-26T13:30:11 GRIB to CDM+CF via cfgrib-0....</pre><div class='xr-wrap' hidden><div class='xr-header'><div class='xr-obj-type'>xarray.Dataset</div></div><ul class='xr-sections'><li class='xr-section-item'><input id='section-a23c99a1-e57b-4512-9c7a-a0f83082ce7a' class='xr-section-summary-in' type='checkbox' disabled ><label for='section-a23c99a1-e57b-4512-9c7a-a0f83082ce7a' class='xr-section-summary'  title='Expand/collapse section'>Dimensions:</label><div class='xr-section-inline-details'><ul class='xr-dim-list'><li><span class='xr-has-index'>latitude</span>: 1201</li><li><span class='xr-has-index'>longitude</span>: 2400</li><li><span class='xr-has-index'>valid_time</span>: 9</li></ul></div><div class='xr-section-details'></div></li><li class='xr-section-item'><input id='section-9f792b8d-8403-49c7-94bd-f6c4aa0886f7' class='xr-section-summary-in' type='checkbox'  checked><label for='section-9f792b8d-8403-49c7-94bd-f6c4aa0886f7' class='xr-section-summary' >Coordinates: <span>(6)</span></label><div class='xr-section-inline-details'></div><div class='xr-section-details'><ul class='xr-var-list'><li class='xr-var-item'><div class='xr-var-name'><span>time</span></div><div class='xr-var-dims'>()</div><div class='xr-var-dtype'>datetime64[ns]</div><div class='xr-var-preview xr-preview'>2021-02-22</div><input id='attrs-205559c9-49dc-41e4-a58b-3745590808ac' class='xr-var-attrs-in' type='checkbox' ><label for='attrs-205559c9-49dc-41e4-a58b-3745590808ac' title='Show/Hide attributes'><svg class='icon xr-icon-file-text2'><use xlink:href='#icon-file-text2'></use></svg></label><input id='data-805f176e-e2cf-4af0-9109-58db791a8101' class='xr-var-data-in' type='checkbox'><label for='data-805f176e-e2cf-4af0-9109-58db791a8101' title='Show/Hide data repr'><svg class='icon xr-icon-database'><use xlink:href='#icon-database'></use></svg></label><div class='xr-var-attrs'><dl class='xr-attrs'><dt><span>long_name :</span></dt><dd>initial time of forecast</dd><dt><span>standard_name :</span></dt><dd>forecast_reference_time</dd></dl></div><div class='xr-var-data'><pre>array(&#x27;2021-02-22T00:00:00.000000000&#x27;, dtype=&#x27;datetime64[ns]&#x27;)</pre></div></li><li class='xr-var-item'><div class='xr-var-name'><span>step</span></div><div class='xr-var-dims'>(valid_time)</div><div class='xr-var-dtype'>timedelta64[ns]</div><div class='xr-var-preview xr-preview'>0 days 12:00:00 ... 21:00:00</div><input id='attrs-9e326ec1-1162-475e-978b-ae9d931c115d' class='xr-var-attrs-in' type='checkbox' ><label for='attrs-9e326ec1-1162-475e-978b-ae9d931c115d' title='Show/Hide attributes'><svg class='icon xr-icon-file-text2'><use xlink:href='#icon-file-text2'></use></svg></label><input id='data-a51840b8-415b-4770-9378-a0623fb7d20e' class='xr-var-data-in' type='checkbox'><label for='data-a51840b8-415b-4770-9378-a0623fb7d20e' title='Show/Hide data repr'><svg class='icon xr-icon-database'><use xlink:href='#icon-database'></use></svg></label><div class='xr-var-attrs'><dl class='xr-attrs'><dt><span>long_name :</span></dt><dd>time since forecast_reference_time</dd><dt><span>standard_name :</span></dt><dd>forecast_period</dd></dl></div><div class='xr-var-data'><pre>array([43200000000000, 32400000000000, 54000000000000, 86400000000000,\n                    0, 21600000000000, 10800000000000, 64800000000000,\n       75600000000000], dtype=&#x27;timedelta64[ns]&#x27;)</pre></div></li><li class='xr-var-item'><div class='xr-var-name'><span>heightAboveGround</span></div><div class='xr-var-dims'>()</div><div class='xr-var-dtype'>int64</div><div class='xr-var-preview xr-preview'>2</div><input id='attrs-2a5d9bf9-7695-4d64-9137-9c94d9d9d44f' class='xr-var-attrs-in' type='checkbox' ><label for='attrs-2a5d9bf9-7695-4d64-9137-9c94d9d9d44f' title='Show/Hide attributes'><svg class='icon xr-icon-file-text2'><use xlink:href='#icon-file-text2'></use></svg></label><input id='data-a2e1a604-e73e-45b3-b5e4-d66ab7b74249' class='xr-var-data-in' type='checkbox'><label for='data-a2e1a604-e73e-45b3-b5e4-d66ab7b74249' title='Show/Hide data repr'><svg class='icon xr-icon-database'><use xlink:href='#icon-database'></use></svg></label><div class='xr-var-attrs'><dl class='xr-attrs'><dt><span>long_name :</span></dt><dd>height above the surface</dd><dt><span>units :</span></dt><dd>m</dd><dt><span>positive :</span></dt><dd>up</dd><dt><span>standard_name :</span></dt><dd>height</dd></dl></div><div class='xr-var-data'><pre>array(2)</pre></div></li><li class='xr-var-item'><div class='xr-var-name'><span class='xr-has-index'>latitude</span></div><div class='xr-var-dims'>(latitude)</div><div class='xr-var-dtype'>float64</div><div class='xr-var-preview xr-preview'>-90.0 -89.85 -89.7 ... 89.85 90.0</div><input id='attrs-b7b5271a-90b0-4041-a2ac-692faacca853' class='xr-var-attrs-in' type='checkbox' ><label for='attrs-b7b5271a-90b0-4041-a2ac-692faacca853' title='Show/Hide attributes'><svg class='icon xr-icon-file-text2'><use xlink:href='#icon-file-text2'></use></svg></label><input id='data-471ed00d-f363-49bf-93a8-eed35192f063' class='xr-var-data-in' type='checkbox'><label for='data-471ed00d-f363-49bf-93a8-eed35192f063' title='Show/Hide data repr'><svg class='icon xr-icon-database'><use xlink:href='#icon-database'></use></svg></label><div class='xr-var-attrs'><dl class='xr-attrs'><dt><span>units :</span></dt><dd>degrees_north</dd><dt><span>standard_name :</span></dt><dd>latitude</dd><dt><span>long_name :</span></dt><dd>latitude</dd></dl></div><div class='xr-var-data'><pre>array([-90.  , -89.85, -89.7 , ...,  89.7 ,  89.85,  90.  ])</pre></div></li><li class='xr-var-item'><div class='xr-var-name'><span class='xr-has-index'>longitude</span></div><div class='xr-var-dims'>(longitude)</div><div class='xr-var-dtype'>float64</div><div class='xr-var-preview xr-preview'>-180.0 -179.8 ... 179.7 179.9</div><input id='attrs-a7665504-203b-4757-b2b9-606d5c52d5b2' class='xr-var-attrs-in' type='checkbox' ><label for='attrs-a7665504-203b-4757-b2b9-606d5c52d5b2' title='Show/Hide attributes'><svg class='icon xr-icon-file-text2'><use xlink:href='#icon-file-text2'></use></svg></label><input id='data-00fc47c3-374a-495f-ae0f-53fe6d1c8b1a' class='xr-var-data-in' type='checkbox'><label for='data-00fc47c3-374a-495f-ae0f-53fe6d1c8b1a' title='Show/Hide data repr'><svg class='icon xr-icon-database'><use xlink:href='#icon-database'></use></svg></label><div class='xr-var-attrs'><dl class='xr-attrs'><dt><span>units :</span></dt><dd>degrees_east</dd><dt><span>standard_name :</span></dt><dd>longitude</dd><dt><span>long_name :</span></dt><dd>longitude</dd></dl></div><div class='xr-var-data'><pre>array([-180.  , -179.85, -179.7 , ...,  179.55,  179.7 ,  179.85])</pre></div></li><li class='xr-var-item'><div class='xr-var-name'><span class='xr-has-index'>valid_time</span></div><div class='xr-var-dims'>(valid_time)</div><div class='xr-var-dtype'>datetime64[ns]</div><div class='xr-var-preview xr-preview'>2021-02-22T12:00:00 ... 2021-02-...</div><input id='attrs-128770da-6a6a-460d-8765-052d7794993b' class='xr-var-attrs-in' type='checkbox' ><label for='attrs-128770da-6a6a-460d-8765-052d7794993b' title='Show/Hide attributes'><svg class='icon xr-icon-file-text2'><use xlink:href='#icon-file-text2'></use></svg></label><input id='data-2f178d71-4c41-4004-8fcc-d3af2af55ad1' class='xr-var-data-in' type='checkbox'><label for='data-2f178d71-4c41-4004-8fcc-d3af2af55ad1' title='Show/Hide data repr'><svg class='icon xr-icon-database'><use xlink:href='#icon-database'></use></svg></label><div class='xr-var-attrs'><dl class='xr-attrs'><dt><span>standard_name :</span></dt><dd>time</dd><dt><span>long_name :</span></dt><dd>time</dd></dl></div><div class='xr-var-data'><pre>array([&#x27;2021-02-22T12:00:00.000000000&#x27;, &#x27;2021-02-22T09:00:00.000000000&#x27;,\n       &#x27;2021-02-22T15:00:00.000000000&#x27;, &#x27;2021-02-23T00:00:00.000000000&#x27;,\n       &#x27;2021-02-22T00:00:00.000000000&#x27;, &#x27;2021-02-22T06:00:00.000000000&#x27;,\n       &#x27;2021-02-22T03:00:00.000000000&#x27;, &#x27;2021-02-22T18:00:00.000000000&#x27;,\n       &#x27;2021-02-22T21:00:00.000000000&#x27;], dtype=&#x27;datetime64[ns]&#x27;)</pre></div></li></ul></div></li><li class='xr-section-item'><input id='section-b6279c76-6c2f-4a82-8a79-d4f63e13ff9c' class='xr-section-summary-in' type='checkbox'  checked><label for='section-b6279c76-6c2f-4a82-8a79-d4f63e13ff9c' class='xr-section-summary' >Data variables: <span>(1)</span></label><div class='xr-section-inline-details'></div><div class='xr-section-details'><ul class='xr-var-list'><li class='xr-var-item'><div class='xr-var-name'><span>t2m</span></div><div class='xr-var-dims'>(valid_time, latitude, longitude)</div><div class='xr-var-dtype'>float32</div><div class='xr-var-preview xr-preview'>dask.array&lt;chunksize=(1, 1201, 2400), meta=np.ndarray&gt;</div><input id='attrs-a4b0a623-60ed-4759-b90e-550ad5ac4f6b' class='xr-var-attrs-in' type='checkbox' ><label for='attrs-a4b0a623-60ed-4759-b90e-550ad5ac4f6b' title='Show/Hide attributes'><svg class='icon xr-icon-file-text2'><use xlink:href='#icon-file-text2'></use></svg></label><input id='data-6546e8b3-38c0-4ee1-a61b-8ccc701f78a9' class='xr-var-data-in' type='checkbox'><label for='data-6546e8b3-38c0-4ee1-a61b-8ccc701f78a9' title='Show/Hide data repr'><svg class='icon xr-icon-database'><use xlink:href='#icon-database'></use></svg></label><div class='xr-var-attrs'><dl class='xr-attrs'><dt><span>GRIB_paramId :</span></dt><dd>167</dd><dt><span>GRIB_shortName :</span></dt><dd>2t</dd><dt><span>GRIB_units :</span></dt><dd>K</dd><dt><span>GRIB_name :</span></dt><dd>2 metre temperature</dd><dt><span>GRIB_cfName :</span></dt><dd>air_temperature</dd><dt><span>GRIB_cfVarName :</span></dt><dd>t2m</dd><dt><span>GRIB_dataType :</span></dt><dd>af</dd><dt><span>GRIB_missingValue :</span></dt><dd>9999</dd><dt><span>GRIB_numberOfPoints :</span></dt><dd>2882400</dd><dt><span>GRIB_typeOfLevel :</span></dt><dd>heightAboveGround</dd><dt><span>GRIB_NV :</span></dt><dd>0</dd><dt><span>GRIB_stepUnits :</span></dt><dd>1</dd><dt><span>GRIB_stepType :</span></dt><dd>instant</dd><dt><span>GRIB_gridType :</span></dt><dd>regular_ll</dd><dt><span>GRIB_gridDefinitionDescription :</span></dt><dd>Latitude/longitude </dd><dt><span>GRIB_Nx :</span></dt><dd>2400</dd><dt><span>GRIB_iDirectionIncrementInDegrees :</span></dt><dd>0.15</dd><dt><span>GRIB_iScansNegatively :</span></dt><dd>0</dd><dt><span>GRIB_longitudeOfFirstGridPointInDegrees :</span></dt><dd>180.0</dd><dt><span>GRIB_longitudeOfLastGridPointInDegrees :</span></dt><dd>179.85</dd><dt><span>GRIB_Ny :</span></dt><dd>1201</dd><dt><span>GRIB_jDirectionIncrementInDegrees :</span></dt><dd>0.15</dd><dt><span>GRIB_jPointsAreConsecutive :</span></dt><dd>0</dd><dt><span>GRIB_jScansPositively :</span></dt><dd>1</dd><dt><span>GRIB_latitudeOfFirstGridPointInDegrees :</span></dt><dd>-90.0</dd><dt><span>GRIB_latitudeOfLastGridPointInDegrees :</span></dt><dd>90.0</dd><dt><span>long_name :</span></dt><dd>2 metre temperature</dd><dt><span>units :</span></dt><dd>K</dd><dt><span>standard_name :</span></dt><dd>air_temperature</dd></dl></div><div class='xr-var-data'><table>\n<tr>\n<td>\n<table>\n  <thead>\n    <tr><td> </td><th> Array </th><th> Chunk </th></tr>\n  </thead>\n  <tbody>\n    <tr><th> Bytes </th><td> 103.77 MB </td> <td> 11.53 MB </td></tr>\n    <tr><th> Shape </th><td> (9, 1201, 2400) </td> <td> (1, 1201, 2400) </td></tr>\n    <tr><th> Count </th><td> 36 Tasks </td><td> 9 Chunks </td></tr>\n    <tr><th> Type </th><td> float32 </td><td> numpy.ndarray </td></tr>\n  </tbody>\n</table>\n</td>\n<td>\n<svg width=\"194\" height=\"124\" style=\"stroke:rgb(0,0,0);stroke-width:1\" >\n\n  <!-- Horizontal lines -->\n  <line x1=\"10\" y1=\"0\" x2=\"24\" y2=\"14\" style=\"stroke-width:2\" />\n  <line x1=\"10\" y1=\"60\" x2=\"24\" y2=\"74\" style=\"stroke-width:2\" />\n\n  <!-- Vertical lines -->\n  <line x1=\"10\" y1=\"0\" x2=\"10\" y2=\"60\" style=\"stroke-width:2\" />\n  <line x1=\"11\" y1=\"1\" x2=\"11\" y2=\"61\" />\n  <line x1=\"13\" y1=\"3\" x2=\"13\" y2=\"63\" />\n  <line x1=\"14\" y1=\"4\" x2=\"14\" y2=\"65\" />\n  <line x1=\"16\" y1=\"6\" x2=\"16\" y2=\"66\" />\n  <line x1=\"18\" y1=\"8\" x2=\"18\" y2=\"68\" />\n  <line x1=\"19\" y1=\"9\" x2=\"19\" y2=\"70\" />\n  <line x1=\"21\" y1=\"11\" x2=\"21\" y2=\"71\" />\n  <line x1=\"23\" y1=\"13\" x2=\"23\" y2=\"73\" />\n  <line x1=\"24\" y1=\"14\" x2=\"24\" y2=\"74\" style=\"stroke-width:2\" />\n\n  <!-- Colored Rectangle -->\n  <polygon points=\"10.0,0.0 24.9485979497544,14.948597949754403 24.9485979497544,74.99859794975441 10.0,60.050000000000004\" style=\"fill:#ECB172A0;stroke-width:0\"/>\n\n  <!-- Horizontal lines -->\n  <line x1=\"10\" y1=\"0\" x2=\"130\" y2=\"0\" style=\"stroke-width:2\" />\n  <line x1=\"11\" y1=\"1\" x2=\"131\" y2=\"1\" />\n  <line x1=\"13\" y1=\"3\" x2=\"133\" y2=\"3\" />\n  <line x1=\"14\" y1=\"4\" x2=\"134\" y2=\"4\" />\n  <line x1=\"16\" y1=\"6\" x2=\"136\" y2=\"6\" />\n  <line x1=\"18\" y1=\"8\" x2=\"138\" y2=\"8\" />\n  <line x1=\"19\" y1=\"9\" x2=\"139\" y2=\"9\" />\n  <line x1=\"21\" y1=\"11\" x2=\"141\" y2=\"11\" />\n  <line x1=\"23\" y1=\"13\" x2=\"143\" y2=\"13\" />\n  <line x1=\"24\" y1=\"14\" x2=\"144\" y2=\"14\" style=\"stroke-width:2\" />\n\n  <!-- Vertical lines -->\n  <line x1=\"10\" y1=\"0\" x2=\"24\" y2=\"14\" style=\"stroke-width:2\" />\n  <line x1=\"130\" y1=\"0\" x2=\"144\" y2=\"14\" style=\"stroke-width:2\" />\n\n  <!-- Colored Rectangle -->\n  <polygon points=\"10.0,0.0 130.0,0.0 144.9485979497544,14.948597949754403 24.9485979497544,14.948597949754403\" style=\"fill:#ECB172A0;stroke-width:0\"/>\n\n  <!-- Horizontal lines -->\n  <line x1=\"24\" y1=\"14\" x2=\"144\" y2=\"14\" style=\"stroke-width:2\" />\n  <line x1=\"24\" y1=\"74\" x2=\"144\" y2=\"74\" style=\"stroke-width:2\" />\n\n  <!-- Vertical lines -->\n  <line x1=\"24\" y1=\"14\" x2=\"24\" y2=\"74\" style=\"stroke-width:2\" />\n  <line x1=\"144\" y1=\"14\" x2=\"144\" y2=\"74\" style=\"stroke-width:2\" />\n\n  <!-- Colored Rectangle -->\n  <polygon points=\"24.9485979497544,14.948597949754403 144.9485979497544,14.948597949754403 144.9485979497544,74.99859794975441 24.9485979497544,74.99859794975441\" style=\"fill:#ECB172A0;stroke-width:0\"/>\n\n  <!-- Text -->\n  <text x=\"84.948598\" y=\"94.998598\" font-size=\"1.0rem\" font-weight=\"100\" text-anchor=\"middle\" >2400</text>\n  <text x=\"164.948598\" y=\"44.973598\" font-size=\"1.0rem\" font-weight=\"100\" text-anchor=\"middle\" transform=\"rotate(-90,164.948598,44.973598)\">1201</text>\n  <text x=\"7.474299\" y=\"87.524299\" font-size=\"1.0rem\" font-weight=\"100\" text-anchor=\"middle\" transform=\"rotate(45,7.474299,87.524299)\">9</text>\n</svg>\n</td>\n</tr>\n</table></div></li></ul></div></li><li class='xr-section-item'><input id='section-1e0bbca8-2924-4101-89d0-c5dbfb4d339c' class='xr-section-summary-in' type='checkbox'  checked><label for='section-1e0bbca8-2924-4101-89d0-c5dbfb4d339c' class='xr-section-summary' >Attributes: <span>(7)</span></label><div class='xr-section-inline-details'></div><div class='xr-section-details'><dl class='xr-attrs'><dt><span>GRIB_edition :</span></dt><dd>2</dd><dt><span>GRIB_centre :</span></dt><dd>cwao</dd><dt><span>GRIB_centreDescription :</span></dt><dd>Canadian Meteorological Service - Montreal </dd><dt><span>GRIB_subCentre :</span></dt><dd>0</dd><dt><span>Conventions :</span></dt><dd>CF-1.7</dd><dt><span>institution :</span></dt><dd>Canadian Meteorological Service - Montreal </dd><dt><span>history :</span></dt><dd>2021-02-26T13:30:11 GRIB to CDM+CF via cfgrib-0.9.8.5/ecCodes-2.15.0 with {&quot;source&quot;: &quot;/Users/caramelo/Documents/0000_Unu Engineering/github/noaa_collect/CMC_glb_TMP_TGL_2_latlon.15x.15_2021022200_P012.grib2&quot;, &quot;filter_by_keys&quot;: {}, &quot;encode_cf&quot;: [&quot;parameter&quot;, &quot;time&quot;, &quot;geography&quot;, &quot;vertical&quot;]}</dd></dl></div></li></ul></div></div>"
     },
     "metadata": {},
     "execution_count": 4
    }
   ],
   "source": [
    "ds"
   ]
  },
  {
   "cell_type": "code",
   "execution_count": 5,
   "metadata": {},
   "outputs": [],
   "source": [
    "# Convert to celsius\n",
    "ds=ds-273.15 #passage en celsius\n",
    "t2m = ds.t2m \n",
    "\n",
    "# copy attributes to get nice figure labels and change Kelvin to Celsius\n",
    "t2m.attrs = ds.t2m.attrs\n",
    "\n",
    "t2m.attrs[\"units\"] = \"deg C\""
   ]
  },
  {
   "cell_type": "code",
   "execution_count": 8,
   "metadata": {},
   "outputs": [
    {
     "output_type": "execute_result",
     "data": {
      "text/plain": [
       "<matplotlib.collections.QuadMesh at 0x127a03240>"
      ]
     },
     "metadata": {},
     "execution_count": 8
    }
   ],
   "source": [
    "t2m.isel(valid_time=1).plot()"
   ]
  },
  {
   "cell_type": "markdown",
   "metadata": {},
   "source": [
    "Les fichiers grib d'environnement canada couvrent tout la planète. Je vais donc procèder à circonscrire exclusivement la zone du Québec."
   ]
  },
  {
   "cell_type": "code",
   "execution_count": 9,
   "metadata": {},
   "outputs": [],
   "source": [
    "min_lon=-45\n",
    "min_lat=50\n",
    "max_lon=-55\n",
    "max_lat=60\n",
    "\n",
    "mask_lon= (ds.longitude >=min_lon) & (ds.longitude >=max_lon)\n",
    "mask_lat= (ds.latitude >=min_lat) & (ds.latitude >=max_lat)\n",
    "\n",
    "cropped_ds = ds.where(mask_lon & mask_lat, drop=True)\n",
    "cropped_ds"
   ]
  },
  {
   "cell_type": "code",
   "execution_count": 10,
   "metadata": {},
   "outputs": [],
   "source": [
    "cropped_ds.t2m.isel(valid_time=1).plot()"
   ]
  },
  {
   "source": [
    "Ajout de la carte du canada ainsi que des lignes de transport dans la carte"
   ],
   "cell_type": "markdown",
   "metadata": {}
  },
  {
   "cell_type": "code",
   "execution_count": 12,
   "metadata": {},
   "outputs": [],
   "source": [
    "#admettons pour la station \n",
    "t2m1d = t2m.isel(latitude=10, longitude=10)\n",
    "t2m1d.plot()"
   ]
  },
  {
   "cell_type": "code",
   "execution_count": null,
   "metadata": {},
   "outputs": [],
   "source": []
  },
  {
   "cell_type": "code",
   "execution_count": null,
   "metadata": {},
   "outputs": [],
   "source": []
  }
 ],
 "metadata": {
  "kernelspec": {
   "name": "python3",
   "display_name": "Python 3.7.3 64-bit",
   "metadata": {
    "interpreter": {
     "hash": "17690981d8ee6d224472ed24e6508f177ac6d7dad44498da01c38a947fd4d01d"
    }
   }
  },
  "language_info": {
   "codemirror_mode": {
    "name": "ipython",
    "version": 3
   },
   "file_extension": ".py",
   "mimetype": "text/x-python",
   "name": "python",
   "nbconvert_exporter": "python",
   "pygments_lexer": "ipython3",
   "version": "3.7.3-final"
  }
 },
 "nbformat": 4,
 "nbformat_minor": 4
}